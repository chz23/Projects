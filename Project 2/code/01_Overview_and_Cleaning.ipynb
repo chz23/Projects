{
 "cells": [
  {
   "cell_type": "markdown",
   "id": "6f5c6f41-f712-44e0-9192-3341aaa015ce",
   "metadata": {},
   "source": [
    "<img src=\"http://imgur.com/1ZcRyrc.png\" style=\"float: left; margin: 20px; height: 55px\">\n",
    "\n",
    "# Project 2: Data Analysis of HDB Housing Prices in Singapore"
   ]
  },
  {
   "cell_type": "markdown",
   "id": "44b64114-1fd1-449b-a182-6b1c766ec5e5",
   "metadata": {},
   "source": [
    "---\n",
    "## Part 1: Background, Overview & Data Cleaning\n",
    "---"
   ]
  },
  {
   "cell_type": "markdown",
   "id": "bd6e2dbe-6225-4703-b938-f5e2fe062e9d",
   "metadata": {},
   "source": [
    "## Contents\n",
    "---\n",
    "- [Problem Statement](##Problem-Statement)\n",
    "- [Overview of Process](##Overview-of-Process)\n",
    "- [Summary of Key Features](##Summary-of-Key-Features)\n",
    "- [Data Cleaning](##Data-Cleaning)"
   ]
  },
  {
   "cell_type": "markdown",
   "id": "a5cf13f1-4a5a-4e6b-a16a-e6ea601712e2",
   "metadata": {},
   "source": [
    "---\n",
    "## Problem Statement\n",
    "---\n",
    "\n",
    "House hunting in Singapore can be a tiring ordeal, especially when one is looking to both buy _and_ sell. The problem is especially pronounced for working adults who have to manage it in addition to a full-time job and, for some, caretaking of family members. This project aims to analyse and identify key features impacting resale prices of public housing (HDB flats) in Singapore so that prospective buyers and/or sellers will be able to avoid wasting unnecessary time and effort on the process, as well as be able to gauge whether prices being quoted are reasonable. A linear model will be built and evaluated accordingly to ensure that the selected features are appropriate and informative."
   ]
  },
  {
   "cell_type": "markdown",
   "id": "47b43ab7-fe94-4908-8fa1-a7c0dd16baf2",
   "metadata": {},
   "source": [
    "---\n",
    "## Overview of Process\n",
    "---\n",
    "\n",
    "#### Data Cleaning\n",
    "\n",
    "Standard data cleaning was carried out for both the `train.csv` and `test.csv` files. The most notable part of this process would be the method used to deal with null values, which will be shown in the relevant section.\n",
    "\n",
    "#### Features Selection & Exploratory Data Analysis (EDA)\n",
    "\n",
    "With 76 (excluding `resale_price`) features from the original dataset, there was a need to filter out features that are less relevant / inferior predictors of resale price. During this process, an additional feature, based on the original features available, was included to improve accuracy. \n",
    "\n",
    "In addition, it became apparent that a separate model for the most expensive resale flats might be useful. Thus, two models - high-end and regular - will be built.\n",
    "\n",
    "#### Modelling\n",
    "\n",
    "Based on the above, the dataset was split into 2 parts - 'high-end outliers' and the remaining flats. For each of these split datasets, predictive models were created using linear regression, ridge regression and LASSO regression. For each model, a set of predictions for resale price for the `test.csv` file was generated and saved as csv files. These files were then submitted to kaggle.\n",
    "\n",
    "Finally, the models were evaluated based on their $R_2$ scores (only available for `train.csv`) and RMSE values. Based on these, the final selection of models was made.\n",
    "\n",
    "#### Conclusion & Recommendations\n",
    "\n",
    "Based on what was done, recommendations were given to the target audience, prospective flat owners and buyers."
   ]
  },
  {
   "cell_type": "markdown",
   "id": "c036fb69-70da-403a-b113-f54b11ce4c33",
   "metadata": {},
   "source": [
    "---\n",
    "## Summary of Key Features\n",
    "---"
   ]
  },
  {
   "cell_type": "markdown",
   "id": "d1773734-a403-430e-99ca-68802cc17b39",
   "metadata": {},
   "source": [
    "This is a summary of features that were used in the models. Out of 76 predictive features, 14 were selected due to their relevance and impact on resale prices.\n",
    "\n",
    "Justifications for the selection of these features, as well as omission of the rest, are provided in the file `02_Feature-Engineering.ipynb` that is located within the same folder.\n",
    "\n",
    "| Feature | Type | Description | No. Labels (Categorical) | Unit of Measurement |\n",
    "| --- | --- | --- | --- | --- |\n",
    "| `flat_type` | Categorical | Flat type of resale flat. | 7 | - |\n",
    "| `flat_model` | Categorical | Flat model of resale flat. | 20 | - |\n",
    "| `Tranc_Year` | Categorical | Year that the resale flat was transacted. | 10 | - |\n",
    "| `planning_area` | Categorical | Planning area that resale flat is located in. | 32 | - |\n",
    "| `bus_interchange` | Categorical | boolean value denoting if the resale flat's nearest MRT station has a bus interchange. | 2 | - |\n",
    "| `mrt_interchange` | Categorical | boolean value denoting if the resale flat's nearest MRT station is an MRT interchange.  | 2 | - |\n",
    "| `floor_area_sqm` | Numerical | Floor area of the resale flat. | - | squared metres ($m^2$) |\n",
    "| `mid` | Numerical | Middle value of the range of levels that the resale flat is located in; used as an approximation of its level. | - | - |\n",
    "| `max_floor_lvl` | Numerical | Number of levels in the resale flat's block. | - | - |\n",
    "| `Mall_Nearest_Distance` | Numerical | Distance from the resale flat to the nearest mall. | - | metres (m) |\n",
    "| `Mall_Within_500m` | Numerical | Number of malls within 500m of the resale flat. | - | - |\n",
    "| `Hawker_Nearest_Distance` | Numerical | Distance from the resale flat to the nearest hawker centre. | - | metres (m) |\n",
    "| `mrt_nearest_distance` | Numerical | Distance from the resale flat to the nearest MRT station. | - | metres (m) |\n",
    "| `hdb_age_at_tranc` | Numerical | Age of the resale flat as at transaction. | - | years |"
   ]
  },
  {
   "cell_type": "markdown",
   "id": "9f93c6a2-a35b-4c7a-bb14-63fe5e1aaf72",
   "metadata": {},
   "source": [
    "---\n",
    "## Data Cleaning\n",
    "---"
   ]
  },
  {
   "cell_type": "markdown",
   "id": "9470709a-3474-45d8-987b-b6c299d5e1b8",
   "metadata": {},
   "source": [
    "### Part 1: `train.csv`\n",
    "---"
   ]
  },
  {
   "cell_type": "code",
   "execution_count": 1,
   "id": "419cf1bf-c38f-4def-9ea5-5664416b45f2",
   "metadata": {},
   "outputs": [],
   "source": [
    "import pandas as pd\n",
    "import numpy as np\n",
    "\n",
    "from math import radians, cos, sin, asin, sqrt"
   ]
  },
  {
   "cell_type": "markdown",
   "id": "9339d546-e6f1-4488-adb5-11a295858a12",
   "metadata": {},
   "source": [
    "### Classes & Functions\n",
    "---"
   ]
  },
  {
   "cell_type": "code",
   "execution_count": 2,
   "id": "cf026253-aadd-46cd-bc93-d5ee39e0612b",
   "metadata": {},
   "outputs": [],
   "source": [
    "# Function to obtain information on columns with null values.\n",
    "\n",
    "def nulls_info(df=None):\n",
    "    \n",
    "    '''\n",
    "    Parameters\n",
    "    ----------\n",
    "    df : pd.DataFrame\n",
    "        DataFrame to be used in function.\n",
    "    '''\n",
    "    \n",
    "    # Create a Series reflecting columns with null values (index)...\n",
    "    # ...as well as each column's total number of null values.\n",
    "    nulls = df.isnull().sum()\n",
    "    \n",
    "    # Create a dictionary of columns with null values using the above information, \n",
    "    # based on the following key: value format:\n",
    "    # column: number of nulls\n",
    "    cols_with_nulls = {nulls.index[i]: nulls[i] for i in range(len(nulls.index)) if nulls[i] != 0}\n",
    "    \n",
    "    return cols_with_nulls"
   ]
  },
  {
   "cell_type": "code",
   "execution_count": 3,
   "id": "41a4f04a-e746-4113-b964-a9a71b975df6",
   "metadata": {},
   "outputs": [],
   "source": [
    "# Function to obtain distance between two points based on latitude & longitude.\n",
    "# The main use of this function is to determine the block/street closest to...\n",
    "# ...the target block because the latter has a null value that requires filling.\n",
    "# Mathematical formulas obtained from https://www.geeksforgeeks.org/program-distance-two-points-earth/\n",
    "\n",
    "def distance(df=None, street=None, town=None, missing_col=None):\n",
    "    \n",
    "    '''\n",
    "    Parameters\n",
    "    ----------\n",
    "    df : pd.DataFrame\n",
    "        DataFrame to be used in function.\n",
    "    street : str\n",
    "        Value from the 'street_name' column of the DataFrame.\n",
    "    town: str\n",
    "        Value from the 'town' column of the DataFrame.\n",
    "        Should only be specified if the street for which the target block is located in \n",
    "        has no useable values for the missing value ('missing_col').\n",
    "    missing_col: str\n",
    "        Feature/Column name. Refers to the feature for which the target block has a missing/null value.\n",
    "    '''\n",
    "    \n",
    "    # List of features that are necessary for calculations.\n",
    "    cols = ['block', 'postal', 'street_name', \n",
    "            'Mall_Nearest_Distance', 'Mall_Within_500m', 'Mall_Within_1km', 'Mall_Within_2km', \n",
    "            'Longitude', 'Latitude']\n",
    "    \n",
    "    # In terms of features, 'block' is a subset of 'street_name', which is in turn a subset of 'town'.\n",
    "    # In most cases, only 'street_name' is needed because the block closest to the target block is...\n",
    "    # ...located in the same street.\n",
    "    # However, in some cases, the entire street are target blocks, ie. all have null values for the same column.\n",
    "    # In such cases, 'town' is used to locate the nearest block instead.\n",
    "    # Note that the 'town' column is not used; instead, all of the relevant town's streets are included.\n",
    "    if town == None:\n",
    "        df = df[df.street_name.isin([street])][cols]\n",
    "        \n",
    "    else:\n",
    "        df = df[df.town.isin([town])][cols]\n",
    "    \n",
    "    # Duplicates are dropped to avoid having to run the code multiple times to obtain the same value.\n",
    "    df.drop_duplicates(subset=['Mall_Nearest_Distance', 'Longitude', 'Latitude'], inplace=True)\n",
    "    \n",
    "    # Converting the unit of measurement of existing longitude & latitude columns from degrees to radians.\n",
    "    df['Longitude'] = df.Longitude.map(lambda x: radians(x))\n",
    "    df['Latitude'] = df.Latitude.map(lambda x: radians(x))\n",
    "    \n",
    "    # Lists of longitude & latitude values for target block(s) in the specified street...\n",
    "    # ...(or streets, if 'town' column is being used.)\n",
    "    lon1 = list(df[(df[missing_col].isnull()) & (df.street_name.isin([street]))].Longitude.unique())\n",
    "    lat1 = list(df[(df[missing_col].isnull()) & (df.street_name.isin([street]))].Latitude.unique())\n",
    "    \n",
    "    # For each target block:\n",
    "    for i in range(len(lon1)):\n",
    "        \n",
    "        # Create 2 columns where column values are the target block's longitude & latitude.\n",
    "        df[f'lon1_{i}'] = lon1[i]\n",
    "        df[f'lat1_{i}'] = lat1[i]\n",
    "        \n",
    "        # Create 2 columns that reflect the differences in longitude & latitude values between...\n",
    "        # ...the target block & neighbouring blocks.\n",
    "        df[f'dlon_{i}'] = abs(df.Longitude - df[f'lon1_{i}'])\n",
    "        df[f'dlat_{i}'] = abs(df.Latitude - df[f'lat1_{i}'])\n",
    "        \n",
    "        # Create 3 columns that reflect different stages of the Haversine formula.\n",
    "        # The final column, 'Distance', reflects the distance between the target block...\n",
    "        # ...& neighbouring blocks.\n",
    "        df[f'a_{i}'] = 0\n",
    "        \n",
    "        df[f'a_{i}'] = df[f'dlat_{i}'].map(lambda x: sin(x / 2)**2) + \\\n",
    "        df[f'lat1_{i}'].map(lambda x: cos(x)) * \\\n",
    "        df.Latitude.map(lambda x: cos(x)) * \\\n",
    "        df[f'dlon_{i}'].map(lambda x: sin(x / 2)**2)\n",
    "        \n",
    "        df[f'c_{i}'] = df[f'a_{i}'].map(lambda x: 2 * asin(sqrt(x)))\n",
    "        \n",
    "        df[f'Distance_{i}'] = df[f'c_{i}'].map(lambda x: x * 6371 * 1000)\n",
    "    \n",
    "    # Return the DataFrame with only the necessary columns pertaining to:\n",
    "    # - information of the neighbouring blocks (block number, postal code, distance to the nearest mall),\n",
    "    # - proximity (in metres) to the target block.\n",
    "    return df.loc[:, df.columns.map(lambda x: x.startswith(('block', 'postal', 'Mall_Nearest_Distance', 'Distance')))]"
   ]
  },
  {
   "cell_type": "code",
   "execution_count": 4,
   "id": "44359d70-8e2b-4c8e-aef5-a6614a7f5cad",
   "metadata": {},
   "outputs": [],
   "source": [
    "# Class that replaces nulls depending on feature.\n",
    "\n",
    "class ReplaceNulls():\n",
    "    \n",
    "    \n",
    "    def __init__(self, df=None):\n",
    "        \n",
    "        self.df = df\n",
    "        \n",
    "        # Create a list of street names that have null values in the 'Mall_Nearest_Distance' column.\n",
    "        self.streets = list(self.df[self.df.Mall_Nearest_Distance.isnull()].street_name.unique())\n",
    "        \n",
    "        # Create an empty dictionary that will later have the following key: value format:\n",
    "        # street: blocks\n",
    "        # ...where the blocks reflected are those that have null values in the 'Mall_Nearest_Distance' column.\n",
    "        self.streets_and_blocks = {}\n",
    "        \n",
    "        self.check()\n",
    "        self.approx_dist()   \n",
    "        self.replace_nulls()\n",
    "        self.check_and_return()\n",
    "        \n",
    "        \n",
    "    # Function to ascertain whether there are any houses for the given street and block...\n",
    "    # ...that DO have a valid value in the 'Mall_Nearest_Distance' column.\n",
    "    def compare_blocks(self, street=None):\n",
    "\n",
    "        # For the target street, create a list of its blocks that have null values in the...\n",
    "        # ...'Mall_Nearest_Distance' column.\n",
    "        self.blocks = list(self.df[self.df.street_name.isin([street]) & \\\n",
    "                                   self.df.Mall_Nearest_Distance.isnull()].block.unique())\n",
    "\n",
    "        # Add a new key: value pair into the relevant dictionary where...\n",
    "        # ...key = target street and value = list of street's blocks with null values.\n",
    "        self.streets_and_blocks[street] = self.blocks\n",
    "\n",
    "        # Create a list of unique values from all the houses in each target block's 'Mall_Nearest_Distance' column.\n",
    "        # If the assumption that all houses belonging to the same target block have the same value (nan)...\n",
    "        # ...for the 'Mall_Nearest_Distance' column, every element in this list should contain only 1 element: nan.\n",
    "        self.nearest_mall_dist = [self.df[self.df.street_name.isin([street]) & \\\n",
    "                                          self.df.block.isin([block])].Mall_Nearest_Distance.unique() \\\n",
    "                                  for block in self.blocks]\n",
    "\n",
    "        return self.nearest_mall_dist\n",
    "    \n",
    "\n",
    "    def check(self):\n",
    "        \n",
    "        for street in self.streets:\n",
    "\n",
    "            # Using the compare_blocks() function, check that all blocks (for their corresponding streets)...\n",
    "            # ...with null values in the 'Mall_Nearest_Distance' column...\n",
    "            self.dists = self.compare_blocks(street=street)\n",
    "\n",
    "            for dist in self.dists:\n",
    "                \n",
    "                # ...have no valid values in the 'Mall_Nearest_Distance' column.\n",
    "                # ie. All houses for a given target block have null values in the 'Mall_Nearest_Distance' column.\n",
    "                # This is done to:\n",
    "                # 1) Prevent overwriting existing values, and\n",
    "                # 2) Check if there are valid values that can be used.\n",
    "                if np.isnan(dist[0]) and len(dist) == 1:\n",
    "                    pass\n",
    "                \n",
    "                # If not, raise an 'alert'.\n",
    "                else:\n",
    "                    print(dist)\n",
    "              \n",
    "            \n",
    "    def approx_dist(self):\n",
    "\n",
    "        # Create a dictionary to store key: value pairs where keys are identical to keys from...\n",
    "        # ...the streets_and_blocks dictionary.\n",
    "        self.mall_nearest_distance = {street: {} for street in self.streets_and_blocks.keys()}\n",
    "\n",
    "        # Create an empty dictionary to store streets that have no valid values in...\n",
    "        # ...the 'Mall_Nearest_Distance' column, ie. all values are np.nan.\n",
    "        self.to_expand_area = {}\n",
    "\n",
    "        # For each street in the 'streets' list:\n",
    "        for street in self.streets:\n",
    "\n",
    "            try:\n",
    "\n",
    "                # 1. Apply the distance() function and sort resulting DataFrame by distance.\n",
    "                df_dist = distance(df=self.df, \n",
    "                                   street=street,\n",
    "                                   missing_col='Mall_Nearest_Distance')\n",
    "\n",
    "                for i in range(3, len(df_dist.columns)):\n",
    "                    \n",
    "                    # 2. For each target block, obtain the 'Mall_Nearest_Distance' column value...\n",
    "                    # ...from its closest neighbouring block.\n",
    "                    df_sorted = df_dist.sort_values(df_dist.columns[i])\n",
    "\n",
    "                    row = 1\n",
    "                    while np.isnan(df_sorted.iloc[row, 2]) == True:\n",
    "                        row +=1\n",
    "\n",
    "                    self.mall_nearest_distance[street][df_sorted.iloc[0, 0]] = (df_sorted.iloc[row, 2])\n",
    "\n",
    "            except:\n",
    "                \n",
    "                # 3. If step 2 doesn't turn up a result, ie. all blocks in the target street...\n",
    "                # ...have no valid values in the 'Mall_Nearest_Distance' column,\n",
    "                # add the street to the to_expand_area dictionary.\n",
    "                self.to_expand_area[street] = None\n",
    "                continue\n",
    "                \n",
    "        # For each street (key) in the to_expand_area dictionary, obtain its corresponding town (value).\n",
    "        for street in self.to_expand_area:\n",
    "            self.to_expand_area[street] = self.df[self.df.street_name.isin([street])].town.unique()[0]\n",
    "            \n",
    "        # For each street in the to_expand_area dictionary:\n",
    "        for street in self.to_expand_area.keys():\n",
    "\n",
    "            # 1. Apply the distance() function, this time to the entire town of the target street. \n",
    "            # Sort resulting DataFrame by distance.\n",
    "            df_dist = distance(df=self.df, \n",
    "                               street=street, \n",
    "                               town=self.to_expand_area[street], \n",
    "                               missing_col='Mall_Nearest_Distance')\n",
    "            \n",
    "            # 2. For each target block, obtain the 'Mall_Nearest_Distance' column value from its...\n",
    "            # ...closest neighbouring block.\n",
    "            for i in range(3, len(df_dist.columns)):\n",
    "\n",
    "                df_sorted = df_dist.sort_values(df_dist.columns[i])\n",
    "\n",
    "                row = 1\n",
    "                while np.isnan(df_sorted.iloc[row, 2]) == True:\n",
    "                    row +=1\n",
    "\n",
    "                self.mall_nearest_distance[street][df_sorted.iloc[0, 0]] = (df_sorted.iloc[row, 2])\n",
    "                \n",
    "                \n",
    "    def replace_nulls(self):\n",
    "                \n",
    "        # Obtain the column number corresponding to the 'Mall_Nearest_Distance' column.\n",
    "        col_num_nearest_mall = [i for i in range(len(self.df.columns)) \\\n",
    "                                if self.df.columns[i] == 'Mall_Nearest_Distance'][0]\n",
    "        \n",
    "        # Filter the DataFrame to only retain rows that have null values for the 'Mall_Nearest_Distance' column.\n",
    "        # Replace the null value using the distance value from the mall_nearest_distance dictionary.\n",
    "        for street in self.mall_nearest_distance.keys():\n",
    "\n",
    "            for block in self.mall_nearest_distance[street]:\n",
    "\n",
    "                self.df.iloc[self.df[(self.df.street_name == street) & (self.df.block == block)].index, \n",
    "                             col_num_nearest_mall] = self.mall_nearest_distance[street][block]\n",
    "\n",
    "        # For each of the 3 'Mall_Within_...' columns:\n",
    "        for col, dist in zip(['Mall_Within_500m', 'Mall_Within_1km', 'Mall_Within_2km'], [500, 1000, 2000]):\n",
    "            \n",
    "            # 1. Extract index of rows with null values for target column and filter the DataFrame accordingly.\n",
    "            col_num = [i for i in range(len(self.df.columns)) if self.df.columns[i] == col][0]\n",
    "\n",
    "            # 2. Replace the null value with either 0 or 1 depending on that row's value for...\n",
    "            # ...the 'Mall_Nearest_Distance' column.\n",
    "            self.df.iloc[self.df[np.isnan(self.df[col])].index, col_num] = \\\n",
    "            np.where(self.df.iloc[self.df[np.isnan(self.df[col])].index, col_num_nearest_mall] <= dist, 1, 0)\n",
    "\n",
    "        # For each of the 3 'Hawker_Within_...' columns:\n",
    "        for col in ['Hawker_Within_500m', 'Hawker_Within_1km', 'Hawker_Within_2km']:\n",
    "\n",
    "            # 1. Check smallest value of Hawker_Nearest_Distance for which the target column has a null value.\n",
    "            if (self.df.iloc[self.df[self.df[col].isnull() == True].index, \n",
    "                             :].sort_values('Hawker_Nearest_Distance').iloc[1,0] > 500) == True:\n",
    "\n",
    "                col_num = [i for i in range(len(self.df.columns)) if self.df.columns[i] == col][0]\n",
    "\n",
    "                # 2. If all values > 500, null values will be substituted with 0.\n",
    "                self.df.iloc[self.df[self.df[col].isnull() == True].index, col_num] = 0\n",
    "\n",
    "            else:\n",
    "\n",
    "                print(False)\n",
    "                \n",
    "                \n",
    "    def check_and_return(self):\n",
    "        \n",
    "        # Check that there are no more null values.\n",
    "        if self.df.isnull().sum().sum() == 0:\n",
    "            return self.df\n",
    "        \n",
    "        else:\n",
    "            return self.df.isnull().sum()"
   ]
  },
  {
   "cell_type": "markdown",
   "id": "353170ef-7dcc-45fe-bbf0-f2a4106b9dd2",
   "metadata": {},
   "source": [
    "### Reading in the Data\n",
    "---"
   ]
  },
  {
   "cell_type": "code",
   "execution_count": 5,
   "id": "87e89f26-8563-4c5b-8f6e-b74bd706428d",
   "metadata": {},
   "outputs": [
    {
     "name": "stderr",
     "output_type": "stream",
     "text": [
      "C:\\Users\\65902\\AppData\\Local\\Temp\\ipykernel_17140\\4164927454.py:1: DtypeWarning: Columns (41) have mixed types. Specify dtype option on import or set low_memory=False.\n",
      "  trn = pd.read_csv('../data/train.csv')\n"
     ]
    }
   ],
   "source": [
    "trn = pd.read_csv('../data/train.csv')"
   ]
  },
  {
   "cell_type": "code",
   "execution_count": 6,
   "id": "f8588bc6-ba49-48bc-9938-2addca84553f",
   "metadata": {},
   "outputs": [
    {
     "data": {
      "text/plain": [
       "(150634, 77)"
      ]
     },
     "execution_count": 6,
     "metadata": {},
     "output_type": "execute_result"
    }
   ],
   "source": [
    "trn.shape"
   ]
  },
  {
   "cell_type": "code",
   "execution_count": 7,
   "id": "230bb87b-53c8-459d-aea4-3a7402062e1a",
   "metadata": {},
   "outputs": [
    {
     "name": "stdout",
     "output_type": "stream",
     "text": [
      "<class 'pandas.core.frame.DataFrame'>\n",
      "RangeIndex: 150634 entries, 0 to 150633\n",
      "Data columns (total 77 columns):\n",
      " #   Column                     Non-Null Count   Dtype  \n",
      "---  ------                     --------------   -----  \n",
      " 0   id                         150634 non-null  int64  \n",
      " 1   Tranc_YearMonth            150634 non-null  object \n",
      " 2   town                       150634 non-null  object \n",
      " 3   flat_type                  150634 non-null  object \n",
      " 4   block                      150634 non-null  object \n",
      " 5   street_name                150634 non-null  object \n",
      " 6   storey_range               150634 non-null  object \n",
      " 7   floor_area_sqm             150634 non-null  float64\n",
      " 8   flat_model                 150634 non-null  object \n",
      " 9   lease_commence_date        150634 non-null  int64  \n",
      " 10  resale_price               150634 non-null  float64\n",
      " 11  Tranc_Year                 150634 non-null  int64  \n",
      " 12  Tranc_Month                150634 non-null  int64  \n",
      " 13  mid_storey                 150634 non-null  int64  \n",
      " 14  lower                      150634 non-null  int64  \n",
      " 15  upper                      150634 non-null  int64  \n",
      " 16  mid                        150634 non-null  int64  \n",
      " 17  full_flat_type             150634 non-null  object \n",
      " 18  address                    150634 non-null  object \n",
      " 19  floor_area_sqft            150634 non-null  float64\n",
      " 20  hdb_age                    150634 non-null  int64  \n",
      " 21  max_floor_lvl              150634 non-null  int64  \n",
      " 22  year_completed             150634 non-null  int64  \n",
      " 23  residential                150634 non-null  object \n",
      " 24  commercial                 150634 non-null  object \n",
      " 25  market_hawker              150634 non-null  object \n",
      " 26  multistorey_carpark        150634 non-null  object \n",
      " 27  precinct_pavilion          150634 non-null  object \n",
      " 28  total_dwelling_units       150634 non-null  int64  \n",
      " 29  1room_sold                 150634 non-null  int64  \n",
      " 30  2room_sold                 150634 non-null  int64  \n",
      " 31  3room_sold                 150634 non-null  int64  \n",
      " 32  4room_sold                 150634 non-null  int64  \n",
      " 33  5room_sold                 150634 non-null  int64  \n",
      " 34  exec_sold                  150634 non-null  int64  \n",
      " 35  multigen_sold              150634 non-null  int64  \n",
      " 36  studio_apartment_sold      150634 non-null  int64  \n",
      " 37  1room_rental               150634 non-null  int64  \n",
      " 38  2room_rental               150634 non-null  int64  \n",
      " 39  3room_rental               150634 non-null  int64  \n",
      " 40  other_room_rental          150634 non-null  int64  \n",
      " 41  postal                     150634 non-null  object \n",
      " 42  Latitude                   150634 non-null  float64\n",
      " 43  Longitude                  150634 non-null  float64\n",
      " 44  planning_area              150634 non-null  object \n",
      " 45  Mall_Nearest_Distance      149805 non-null  float64\n",
      " 46  Mall_Within_500m           57845 non-null   float64\n",
      " 47  Mall_Within_1km            125208 non-null  float64\n",
      " 48  Mall_Within_2km            148694 non-null  float64\n",
      " 49  Hawker_Nearest_Distance    150634 non-null  float64\n",
      " 50  Hawker_Within_500m         53244 non-null   float64\n",
      " 51  Hawker_Within_1km          89766 non-null   float64\n",
      " 52  Hawker_Within_2km          121432 non-null  float64\n",
      " 53  hawker_food_stalls         150634 non-null  int64  \n",
      " 54  hawker_market_stalls       150634 non-null  int64  \n",
      " 55  mrt_nearest_distance       150634 non-null  float64\n",
      " 56  mrt_name                   150634 non-null  object \n",
      " 57  bus_interchange            150634 non-null  int64  \n",
      " 58  mrt_interchange            150634 non-null  int64  \n",
      " 59  mrt_latitude               150634 non-null  float64\n",
      " 60  mrt_longitude              150634 non-null  float64\n",
      " 61  bus_stop_nearest_distance  150634 non-null  float64\n",
      " 62  bus_stop_name              150634 non-null  object \n",
      " 63  bus_stop_latitude          150634 non-null  float64\n",
      " 64  bus_stop_longitude         150634 non-null  float64\n",
      " 65  pri_sch_nearest_distance   150634 non-null  float64\n",
      " 66  pri_sch_name               150634 non-null  object \n",
      " 67  vacancy                    150634 non-null  int64  \n",
      " 68  pri_sch_affiliation        150634 non-null  int64  \n",
      " 69  pri_sch_latitude           150634 non-null  float64\n",
      " 70  pri_sch_longitude          150634 non-null  float64\n",
      " 71  sec_sch_nearest_dist       150634 non-null  float64\n",
      " 72  sec_sch_name               150634 non-null  object \n",
      " 73  cutoff_point               150634 non-null  int64  \n",
      " 74  affiliation                150634 non-null  int64  \n",
      " 75  sec_sch_latitude           150634 non-null  float64\n",
      " 76  sec_sch_longitude          150634 non-null  float64\n",
      "dtypes: float64(25), int64(32), object(20)\n",
      "memory usage: 88.5+ MB\n"
     ]
    }
   ],
   "source": [
    "trn.info()"
   ]
  },
  {
   "cell_type": "markdown",
   "id": "7b9434df-6018-4da4-bd8f-28b84a4e7b4d",
   "metadata": {},
   "source": [
    "### Dropping Duplicates\n",
    "---"
   ]
  },
  {
   "cell_type": "markdown",
   "id": "2769c61c-25dc-4ca7-80f6-808e1288906b",
   "metadata": {},
   "source": [
    "Duplicates will be defined as having identical values for all but one  (`id`) of the features. All `id` values are unique, but a closer look at rows that are identical except for the `id` feature reveals that:\n",
    "1) All are other values are identical;\n",
    "2) `id` values are usually just 1 digit apart.\n",
    "\n",
    "The above points, coupled with the fact that it is extremely unlikely that identical sales were made for nearby flats in the same month for the exact same resale price, point towards the duplicates likely being a result of human error (data entry issues). Thus, they should be dropped."
   ]
  },
  {
   "cell_type": "code",
   "execution_count": 8,
   "id": "5ee3020a-c0c7-4c57-ae31-9589c84b6ec7",
   "metadata": {},
   "outputs": [],
   "source": [
    "trn.drop_duplicates(trn.columns[1:], inplace=True)"
   ]
  },
  {
   "cell_type": "code",
   "execution_count": 9,
   "id": "3ceddd2e-e3ec-4730-99ff-59a13ca04c36",
   "metadata": {},
   "outputs": [
    {
     "data": {
      "text/plain": [
       "(150417, 77)"
      ]
     },
     "execution_count": 9,
     "metadata": {},
     "output_type": "execute_result"
    }
   ],
   "source": [
    "# 217 duplicate rows were dropped.\n",
    "\n",
    "trn.shape"
   ]
  },
  {
   "cell_type": "code",
   "execution_count": 10,
   "id": "09c6e35d-861c-4015-941c-24dd93cc2aad",
   "metadata": {},
   "outputs": [],
   "source": [
    "trn.reset_index(drop=True, inplace=True)"
   ]
  },
  {
   "cell_type": "markdown",
   "id": "bf3d40c7-e971-4629-a4f2-2ac74422033a",
   "metadata": {},
   "source": [
    "### Replacing Null / `NIL` Values\n",
    "---"
   ]
  },
  {
   "cell_type": "markdown",
   "id": "d9bc267f-25e7-4326-b084-a14935471307",
   "metadata": {},
   "source": [
    "#### Part 1: Dealing with `NIL` values in the `postal` column\n",
    "\n",
    "Blocks in the same area (`street_name`) should have similar postal codes, ie. the first 3 digits should be similar. The `distance()` will be used to determine the blocks closest to the target block. Following which, the first 3 digits of these neighbouring blocks' postal codes will be used."
   ]
  },
  {
   "cell_type": "code",
   "execution_count": 11,
   "id": "d36149c8-df30-40f2-a8c8-b2c5b817fddf",
   "metadata": {},
   "outputs": [
    {
     "data": {
      "text/plain": [
       "array(['NIL'], dtype=object)"
      ]
     },
     "execution_count": 11,
     "metadata": {},
     "output_type": "execute_result"
    }
   ],
   "source": [
    "trn[trn.postal.str.isnumeric() == False].postal.unique()"
   ]
  },
  {
   "cell_type": "code",
   "execution_count": 12,
   "id": "c4eec1ef-f8ba-4c99-9e7c-0fa07507c604",
   "metadata": {},
   "outputs": [],
   "source": [
    "# Standardise values in 'postal' column as str.\n",
    "\n",
    "trn['postal'] = trn.postal.map(lambda x: str(x))"
   ]
  },
  {
   "cell_type": "code",
   "execution_count": 13,
   "id": "6fce1188-a86d-41e8-8322-07f3e6c47793",
   "metadata": {},
   "outputs": [],
   "source": [
    "# Change 'NIL' values in 'postal' column to np.nan.\n",
    "\n",
    "trn['postal'] = trn.postal.map(lambda x: np.nan if x in ['NIL'] else x)"
   ]
  },
  {
   "cell_type": "code",
   "execution_count": 14,
   "id": "bb867aae-81c2-4c91-8957-1988a6763c09",
   "metadata": {},
   "outputs": [],
   "source": [
    "# Obtain block & street name of rows that have no postal codes.\n",
    "\n",
    "no_postal_trn = trn[trn.postal.isnull() == True][['block', 'street_name']]\\\n",
    ".drop_duplicates().to_dict(orient='records')"
   ]
  },
  {
   "cell_type": "code",
   "execution_count": 15,
   "id": "549d14b1-804d-4c44-8223-9c7849d64658",
   "metadata": {},
   "outputs": [
    {
     "data": {
      "text/html": [
       "<div>\n",
       "<style scoped>\n",
       "    .dataframe tbody tr th:only-of-type {\n",
       "        vertical-align: middle;\n",
       "    }\n",
       "\n",
       "    .dataframe tbody tr th {\n",
       "        vertical-align: top;\n",
       "    }\n",
       "\n",
       "    .dataframe thead th {\n",
       "        text-align: right;\n",
       "    }\n",
       "</style>\n",
       "<table border=\"1\" class=\"dataframe\">\n",
       "  <thead>\n",
       "    <tr style=\"text-align: right;\">\n",
       "      <th></th>\n",
       "      <th>block</th>\n",
       "      <th>postal</th>\n",
       "      <th>Mall_Nearest_Distance</th>\n",
       "      <th>Distance_0</th>\n",
       "    </tr>\n",
       "  </thead>\n",
       "  <tbody>\n",
       "    <tr>\n",
       "      <th>880</th>\n",
       "      <td>215</td>\n",
       "      <td>NaN</td>\n",
       "      <td>300.156625</td>\n",
       "      <td>0.000000</td>\n",
       "    </tr>\n",
       "    <tr>\n",
       "      <th>8121</th>\n",
       "      <td>216</td>\n",
       "      <td>680216</td>\n",
       "      <td>299.385682</td>\n",
       "      <td>17.500518</td>\n",
       "    </tr>\n",
       "    <tr>\n",
       "      <th>24440</th>\n",
       "      <td>214</td>\n",
       "      <td>680214</td>\n",
       "      <td>303.831770</td>\n",
       "      <td>53.673124</td>\n",
       "    </tr>\n",
       "    <tr>\n",
       "      <th>3751</th>\n",
       "      <td>217</td>\n",
       "      <td>680217</td>\n",
       "      <td>242.948553</td>\n",
       "      <td>60.536651</td>\n",
       "    </tr>\n",
       "    <tr>\n",
       "      <th>17218</th>\n",
       "      <td>212</td>\n",
       "      <td>680212</td>\n",
       "      <td>371.138174</td>\n",
       "      <td>74.551625</td>\n",
       "    </tr>\n",
       "  </tbody>\n",
       "</table>\n",
       "</div>"
      ],
      "text/plain": [
       "      block  postal  Mall_Nearest_Distance  Distance_0\n",
       "880     215     NaN             300.156625    0.000000\n",
       "8121    216  680216             299.385682   17.500518\n",
       "24440   214  680214             303.831770   53.673124\n",
       "3751    217  680217             242.948553   60.536651\n",
       "17218   212  680212             371.138174   74.551625"
      ]
     },
     "metadata": {},
     "output_type": "display_data"
    },
    {
     "data": {
      "text/html": [
       "<div>\n",
       "<style scoped>\n",
       "    .dataframe tbody tr th:only-of-type {\n",
       "        vertical-align: middle;\n",
       "    }\n",
       "\n",
       "    .dataframe tbody tr th {\n",
       "        vertical-align: top;\n",
       "    }\n",
       "\n",
       "    .dataframe thead th {\n",
       "        text-align: right;\n",
       "    }\n",
       "</style>\n",
       "<table border=\"1\" class=\"dataframe\">\n",
       "  <thead>\n",
       "    <tr style=\"text-align: right;\">\n",
       "      <th></th>\n",
       "      <th>block</th>\n",
       "      <th>postal</th>\n",
       "      <th>Mall_Nearest_Distance</th>\n",
       "      <th>Distance_0</th>\n",
       "    </tr>\n",
       "  </thead>\n",
       "  <tbody>\n",
       "    <tr>\n",
       "      <th>3030</th>\n",
       "      <td>238</td>\n",
       "      <td>NaN</td>\n",
       "      <td>448.929181</td>\n",
       "      <td>0.000000</td>\n",
       "    </tr>\n",
       "    <tr>\n",
       "      <th>17274</th>\n",
       "      <td>237</td>\n",
       "      <td>540237</td>\n",
       "      <td>464.571810</td>\n",
       "      <td>65.597126</td>\n",
       "    </tr>\n",
       "    <tr>\n",
       "      <th>2414</th>\n",
       "      <td>236</td>\n",
       "      <td>540236</td>\n",
       "      <td>527.031302</td>\n",
       "      <td>86.255979</td>\n",
       "    </tr>\n",
       "    <tr>\n",
       "      <th>7567</th>\n",
       "      <td>240</td>\n",
       "      <td>540240</td>\n",
       "      <td>362.051069</td>\n",
       "      <td>86.880028</td>\n",
       "    </tr>\n",
       "    <tr>\n",
       "      <th>43090</th>\n",
       "      <td>235</td>\n",
       "      <td>540235</td>\n",
       "      <td>523.986192</td>\n",
       "      <td>109.653587</td>\n",
       "    </tr>\n",
       "  </tbody>\n",
       "</table>\n",
       "</div>"
      ],
      "text/plain": [
       "      block  postal  Mall_Nearest_Distance  Distance_0\n",
       "3030    238     NaN             448.929181    0.000000\n",
       "17274   237  540237             464.571810   65.597126\n",
       "2414    236  540236             527.031302   86.255979\n",
       "7567    240  540240             362.051069   86.880028\n",
       "43090   235  540235             523.986192  109.653587"
      ]
     },
     "metadata": {},
     "output_type": "display_data"
    }
   ],
   "source": [
    "# Using the distance() function, check postal codes of blocks nearest to the...\n",
    "# ...target blocks (blocks with no postal codes).\n",
    "\n",
    "for i in range(len(no_postal_trn)):\n",
    "    \n",
    "    street = no_postal_trn[i]['street_name']\n",
    "    \n",
    "    display(distance(df=trn, \n",
    "                     street=street, \n",
    "                     missing_col='postal').sort_values('Distance_0').head())"
   ]
  },
  {
   "cell_type": "code",
   "execution_count": 16,
   "id": "48dc81f3-1241-4926-8bb9-f455db24da9d",
   "metadata": {},
   "outputs": [],
   "source": [
    "# Update postal codes of blocks with no postal codes.\n",
    "# First 3 digits: same as that of nearest blocks.\n",
    "# Last 3 digits: block number (all target block numbers are 3 digits long).\n",
    "\n",
    "trn.loc[trn[(trn.postal.isnull() == True) & (trn.block == '215')].index, 'postal'] = '680215'\n",
    "\n",
    "trn.loc[trn[(trn.postal.isnull() == True) & (trn.block == '238')].index, 'postal'] = '540238'"
   ]
  },
  {
   "cell_type": "markdown",
   "id": "a4ef2689-cc34-4df2-a470-33a4d77e0dd4",
   "metadata": {},
   "source": [
    "#### Part 2: Dealing with `null` values\n",
    "\n",
    "**`Mall_Nearest_Distance` column**\n",
    "\n",
    "Similar to the missing postal codes, the `distance()` function will be used to determine blocks closest to the target block. The target block will then take on the `Mall_Nearest_Distance` value of the closest neighbouring block.\n",
    "\n",
    "Note that it is extremely unlikely that these blocks are right next to a mall, meaning that the missing values should not be substituted with `0`:\n",
    "- There are `0` values for this column, meaning that some blocks are located next to a mall and this has already been reflected in their `Mall_Nearest_Distance` value.\n",
    "- The 3 related columns - `Mall_Within_500m`, `Mall_Within_1km`, `Mall_Within_2km` - are always empty as well, indicating that there's just generally missing information, or that beyond a certain distance, values are not recorded.\n",
    "\n",
    "**All of the remaining 6 columns**\n",
    "\n",
    "It is likely that the missing values simply mean that there are no malls or hawker centres within the specified area. This is further strengthened by the fact that there are no `0` values across all 6 columns. A check will be done to ensure that this is the case. The missing values will then be filled in using the corresponding `Mall_Nearest_Distance` values. For example, for a given block with the following values:\n",
    "- `Mall_Nearest_Distance` = 789\n",
    "- `Mall_Within_500m` = nan\n",
    "- `Mall_Within_1km` = nan\n",
    "- The `Mall_Within_500m` and `Mall_Within_1km` will be filled with `0` and `1` respectively."
   ]
  },
  {
   "cell_type": "code",
   "execution_count": 17,
   "id": "6ec803ed-1e37-4d94-a36f-23046a9ea2a3",
   "metadata": {},
   "outputs": [
    {
     "data": {
      "text/plain": [
       "{'Mall_Nearest_Distance': 826,\n",
       " 'Mall_Within_500m': 92659,\n",
       " 'Mall_Within_1km': 25402,\n",
       " 'Mall_Within_2km': 1935,\n",
       " 'Hawker_Within_500m': 97246,\n",
       " 'Hawker_Within_1km': 60779,\n",
       " 'Hawker_Within_2km': 29152}"
      ]
     },
     "execution_count": 17,
     "metadata": {},
     "output_type": "execute_result"
    }
   ],
   "source": [
    "nulls_info(df=trn)"
   ]
  },
  {
   "cell_type": "code",
   "execution_count": 18,
   "id": "1ee285ef-6bb7-466b-8cbf-10da498ac5c2",
   "metadata": {},
   "outputs": [
    {
     "name": "stdout",
     "output_type": "stream",
     "text": [
      "Mall_Nearest_Distance 30\n",
      "Mall_Within_500m 0\n",
      "Mall_Within_1km 0\n",
      "Mall_Within_2km 0\n",
      "Hawker_Within_500m 0\n",
      "Hawker_Within_1km 0\n",
      "Hawker_Within_2km 0\n"
     ]
    }
   ],
   "source": [
    "# For each of the columns with null values, calculate (across all rows in the DataFrame)...\n",
    "# ...number of rows with a value of zero.\n",
    "\n",
    "for col in nulls_info(df=trn).keys():\n",
    "    print(col, trn[trn[col] == 0].shape[0])"
   ]
  },
  {
   "cell_type": "code",
   "execution_count": 19,
   "id": "8e624f79-34c4-4961-8633-4f1d88184c55",
   "metadata": {},
   "outputs": [
    {
     "data": {
      "text/plain": [
       "Mall_Within_500m    826\n",
       "Mall_Within_1km     826\n",
       "Mall_Within_2km     826\n",
       "dtype: int64"
      ]
     },
     "execution_count": 19,
     "metadata": {},
     "output_type": "execute_result"
    }
   ],
   "source": [
    "# Check if all rows with a null value in the 'Mall_Nearest_Distance' column also have...\n",
    "# ...null values in each of the 3 columns starting with 'Mall_Within_...'.\n",
    "\n",
    "trn[trn.Mall_Nearest_Distance.isnull()][['Mall_Within_500m', \n",
    "                                         'Mall_Within_1km', \n",
    "                                         'Mall_Within_2km']].isnull().sum()"
   ]
  },
  {
   "cell_type": "code",
   "execution_count": 20,
   "id": "1d2c209c-6c0c-40db-bb35-2bc69b492fb5",
   "metadata": {},
   "outputs": [
    {
     "data": {
      "text/plain": [
       "<__main__.ReplaceNulls at 0x1f774f9d9d0>"
      ]
     },
     "execution_count": 20,
     "metadata": {},
     "output_type": "execute_result"
    }
   ],
   "source": [
    "ReplaceNulls(trn)"
   ]
  },
  {
   "cell_type": "code",
   "execution_count": 21,
   "id": "2c3a19cc-db9a-471b-8ac8-a055f08df149",
   "metadata": {},
   "outputs": [
    {
     "data": {
      "text/plain": [
       "0"
      ]
     },
     "execution_count": 21,
     "metadata": {},
     "output_type": "execute_result"
    }
   ],
   "source": [
    "# Check that there are no more null values.\n",
    "\n",
    "trn.isnull().sum().sum()"
   ]
  },
  {
   "cell_type": "code",
   "execution_count": 22,
   "id": "35b138ef-6819-4bf8-bd44-31134346573d",
   "metadata": {},
   "outputs": [],
   "source": [
    "# Save cleaned data into another csv file for use in other notebooks.\n",
    "\n",
    "trn.to_csv('../data/train_cleaned.csv')"
   ]
  },
  {
   "cell_type": "markdown",
   "id": "6389322d-9fb9-455c-95b2-df8fe352f500",
   "metadata": {},
   "source": [
    "### Part 2: `test.csv`\n",
    "---"
   ]
  },
  {
   "cell_type": "code",
   "execution_count": 23,
   "id": "8c3ea8b1-3eef-4a9b-b5f3-ea1299f4c406",
   "metadata": {},
   "outputs": [
    {
     "name": "stderr",
     "output_type": "stream",
     "text": [
      "C:\\Users\\65902\\AppData\\Local\\Temp\\ipykernel_17140\\485150523.py:1: DtypeWarning: Columns (40) have mixed types. Specify dtype option on import or set low_memory=False.\n",
      "  tst = pd.read_csv('../data/test.csv')\n"
     ]
    }
   ],
   "source": [
    "tst = pd.read_csv('../data/test.csv')"
   ]
  },
  {
   "cell_type": "code",
   "execution_count": 24,
   "id": "6082b5bc-42f3-4b72-909f-2d67c57450b0",
   "metadata": {},
   "outputs": [
    {
     "data": {
      "text/plain": [
       "array(['NIL'], dtype=object)"
      ]
     },
     "execution_count": 24,
     "metadata": {},
     "output_type": "execute_result"
    }
   ],
   "source": [
    "tst[tst.postal.str.isnumeric() == False].postal.unique()"
   ]
  },
  {
   "cell_type": "code",
   "execution_count": 25,
   "id": "5924648c-5933-4f77-881f-94f023f3fe77",
   "metadata": {},
   "outputs": [],
   "source": [
    "# Standardise values in 'postal' column as str.\n",
    "\n",
    "tst['postal'] = tst.postal.map(lambda x: str(x))"
   ]
  },
  {
   "cell_type": "code",
   "execution_count": 26,
   "id": "6f2f50a5-480d-4d12-ac86-d2de22aa90b6",
   "metadata": {},
   "outputs": [],
   "source": [
    "# Change 'NIL' values in 'postal' column to np.nan.\n",
    "\n",
    "tst['postal'] = tst.postal.map(lambda x: np.nan if x in ['NIL'] else x)"
   ]
  },
  {
   "cell_type": "code",
   "execution_count": 27,
   "id": "d291a6b7-ae5b-4c67-a0b3-dee0bc7acb9f",
   "metadata": {},
   "outputs": [],
   "source": [
    "# Obtain block & street name of rows that have no postal codes.\n",
    "\n",
    "no_postal_tst = tst[tst.postal.isnull() == True][['block', 'street_name']]\\\n",
    ".drop_duplicates().to_dict(orient='records')"
   ]
  },
  {
   "cell_type": "code",
   "execution_count": 28,
   "id": "adcb2d7f-96f6-485e-a7b3-120d60a4f912",
   "metadata": {},
   "outputs": [
    {
     "data": {
      "text/html": [
       "<div>\n",
       "<style scoped>\n",
       "    .dataframe tbody tr th:only-of-type {\n",
       "        vertical-align: middle;\n",
       "    }\n",
       "\n",
       "    .dataframe tbody tr th {\n",
       "        vertical-align: top;\n",
       "    }\n",
       "\n",
       "    .dataframe thead th {\n",
       "        text-align: right;\n",
       "    }\n",
       "</style>\n",
       "<table border=\"1\" class=\"dataframe\">\n",
       "  <thead>\n",
       "    <tr style=\"text-align: right;\">\n",
       "      <th></th>\n",
       "      <th>block</th>\n",
       "      <th>postal</th>\n",
       "      <th>Mall_Nearest_Distance</th>\n",
       "      <th>Distance_0</th>\n",
       "    </tr>\n",
       "  </thead>\n",
       "  <tbody>\n",
       "    <tr>\n",
       "      <th>5137</th>\n",
       "      <td>238</td>\n",
       "      <td>NaN</td>\n",
       "      <td>448.929181</td>\n",
       "      <td>0.000000</td>\n",
       "    </tr>\n",
       "    <tr>\n",
       "      <th>58</th>\n",
       "      <td>236</td>\n",
       "      <td>540236</td>\n",
       "      <td>527.031302</td>\n",
       "      <td>86.254314</td>\n",
       "    </tr>\n",
       "    <tr>\n",
       "      <th>9349</th>\n",
       "      <td>240</td>\n",
       "      <td>540240</td>\n",
       "      <td>362.051069</td>\n",
       "      <td>86.881562</td>\n",
       "    </tr>\n",
       "    <tr>\n",
       "      <th>13157</th>\n",
       "      <td>235</td>\n",
       "      <td>540235</td>\n",
       "      <td>523.986192</td>\n",
       "      <td>109.652115</td>\n",
       "    </tr>\n",
       "    <tr>\n",
       "      <th>833</th>\n",
       "      <td>239</td>\n",
       "      <td>540239</td>\n",
       "      <td>363.858400</td>\n",
       "      <td>113.716682</td>\n",
       "    </tr>\n",
       "  </tbody>\n",
       "</table>\n",
       "</div>"
      ],
      "text/plain": [
       "      block  postal  Mall_Nearest_Distance  Distance_0\n",
       "5137    238     NaN             448.929181    0.000000\n",
       "58      236  540236             527.031302   86.254314\n",
       "9349    240  540240             362.051069   86.881562\n",
       "13157   235  540235             523.986192  109.652115\n",
       "833     239  540239             363.858400  113.716682"
      ]
     },
     "metadata": {},
     "output_type": "display_data"
    }
   ],
   "source": [
    "# Using the distance() function, check postal codes of blocks nearest to the...\n",
    "# ...target blocks (blocks with no postal codes).\n",
    "\n",
    "for i in range(len(no_postal_tst)):\n",
    "    \n",
    "    street = no_postal_tst[i]['street_name']\n",
    "    \n",
    "    display(distance(df=tst, \n",
    "                     street=street, \n",
    "                     missing_col='postal').sort_values('Distance_0').head())"
   ]
  },
  {
   "cell_type": "code",
   "execution_count": 29,
   "id": "835feb30-7be4-4692-8d96-cc62b3579c0d",
   "metadata": {},
   "outputs": [],
   "source": [
    "# Update postal codes of blocks with no postal codes.\n",
    "# First 3 digits: same as that of nearest blocks.\n",
    "# Last 3 digits: block number (all target block numbers are 3 digits long).\n",
    "\n",
    "tst.loc[tst[(tst.postal.isnull() == True) & (tst.block == '238')].index, 'postal'] = '540238'"
   ]
  },
  {
   "cell_type": "code",
   "execution_count": 30,
   "id": "e711829f-0a48-4e2a-8814-2ab50cd0adcc",
   "metadata": {},
   "outputs": [
    {
     "data": {
      "text/plain": [
       "{'Mall_Nearest_Distance': 84,\n",
       " 'Mall_Within_500m': 10292,\n",
       " 'Mall_Within_1km': 2786,\n",
       " 'Mall_Within_2km': 213,\n",
       " 'Hawker_Within_500m': 10755,\n",
       " 'Hawker_Within_1km': 6729,\n",
       " 'Hawker_Within_2km': 3254}"
      ]
     },
     "execution_count": 30,
     "metadata": {},
     "output_type": "execute_result"
    }
   ],
   "source": [
    "nulls_info(df=tst)"
   ]
  },
  {
   "cell_type": "code",
   "execution_count": 31,
   "id": "f4265173-4328-49f9-8edb-dee102b0e85c",
   "metadata": {},
   "outputs": [
    {
     "name": "stdout",
     "output_type": "stream",
     "text": [
      "Mall_Nearest_Distance 1\n",
      "Mall_Within_500m 0\n",
      "Mall_Within_1km 0\n",
      "Mall_Within_2km 0\n",
      "Hawker_Within_500m 0\n",
      "Hawker_Within_1km 0\n",
      "Hawker_Within_2km 0\n"
     ]
    }
   ],
   "source": [
    "# For each of the columns with null values, calculate (across all rows in the DataFrame)...\n",
    "# ...number of rows with a value of zero.\n",
    "\n",
    "for col in nulls_info(df=tst).keys():\n",
    "    print(col, tst[tst[col] == 0].shape[0])"
   ]
  },
  {
   "cell_type": "code",
   "execution_count": 32,
   "id": "86cd4866-4e23-433d-afea-60f38e08f4d1",
   "metadata": {},
   "outputs": [
    {
     "data": {
      "text/plain": [
       "Mall_Within_500m    84\n",
       "Mall_Within_1km     84\n",
       "Mall_Within_2km     84\n",
       "dtype: int64"
      ]
     },
     "execution_count": 32,
     "metadata": {},
     "output_type": "execute_result"
    }
   ],
   "source": [
    "# Check if all rows with a null value in the 'Mall_Nearest_Distance' column also have...\n",
    "# ...null values in each of the 3 columns starting with 'Mall_Within_...'.\n",
    "\n",
    "tst[tst.Mall_Nearest_Distance.isnull()][['Mall_Within_500m', \n",
    "                                         'Mall_Within_1km', \n",
    "                                         'Mall_Within_2km']].isnull().sum()"
   ]
  },
  {
   "cell_type": "code",
   "execution_count": 33,
   "id": "2e521f17-ba02-4041-9837-29c58b20adf7",
   "metadata": {},
   "outputs": [
    {
     "data": {
      "text/plain": [
       "<__main__.ReplaceNulls at 0x1f70020ed30>"
      ]
     },
     "execution_count": 33,
     "metadata": {},
     "output_type": "execute_result"
    }
   ],
   "source": [
    "ReplaceNulls(tst)"
   ]
  },
  {
   "cell_type": "code",
   "execution_count": 34,
   "id": "11acfdc4-9aff-4fc2-8e63-af2d10b0d336",
   "metadata": {},
   "outputs": [
    {
     "data": {
      "text/plain": [
       "0"
      ]
     },
     "execution_count": 34,
     "metadata": {},
     "output_type": "execute_result"
    }
   ],
   "source": [
    "# Check that there are no more null values.\n",
    "\n",
    "tst.isnull().sum().sum()"
   ]
  },
  {
   "cell_type": "code",
   "execution_count": 35,
   "id": "baf64206-af91-43fa-be59-f07fc77eb426",
   "metadata": {},
   "outputs": [],
   "source": [
    "# Save cleaned data into another csv file for use in other notebooks.\n",
    "\n",
    "tst.to_csv('../data/test_cleaned.csv')"
   ]
  }
 ],
 "metadata": {
  "kernelspec": {
   "display_name": "Python [conda env:dsi-sg]",
   "language": "python",
   "name": "conda-env-dsi-sg-py"
  },
  "language_info": {
   "codemirror_mode": {
    "name": "ipython",
    "version": 3
   },
   "file_extension": ".py",
   "mimetype": "text/x-python",
   "name": "python",
   "nbconvert_exporter": "python",
   "pygments_lexer": "ipython3",
   "version": "3.9.13"
  }
 },
 "nbformat": 4,
 "nbformat_minor": 5
}
