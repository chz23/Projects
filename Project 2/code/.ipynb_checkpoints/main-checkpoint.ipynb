{
 "cells": [
  {
   "cell_type": "code",
   "execution_count": 1388,
   "id": "22394f89-0208-426e-a388-6ae76e292298",
   "metadata": {},
   "outputs": [],
   "source": [
    "import pandas as pd\n",
    "import numpy as np\n",
    "\n",
    "from math import radians, cos, sin, asin, sqrt"
   ]
  },
  {
   "cell_type": "code",
   "execution_count": 1389,
   "id": "08b3d836-ce2f-447c-ad8f-077d2056fb83",
   "metadata": {},
   "outputs": [
    {
     "name": "stderr",
     "output_type": "stream",
     "text": [
      "C:\\Users\\65902\\AppData\\Local\\Temp\\ipykernel_5732\\236146557.py:1: DtypeWarning: Columns (41) have mixed types. Specify dtype option on import or set low_memory=False.\n",
      "  trn = pd.read_csv('../datasets/train.csv')\n"
     ]
    }
   ],
   "source": [
    "trn = pd.read_csv('../datasets/train.csv')"
   ]
  },
  {
   "cell_type": "code",
   "execution_count": 1390,
   "id": "0ff22701-be67-400d-93a4-61726c642484",
   "metadata": {},
   "outputs": [
    {
     "name": "stdout",
     "output_type": "stream",
     "text": [
      "<class 'pandas.core.frame.DataFrame'>\n",
      "RangeIndex: 150634 entries, 0 to 150633\n",
      "Data columns (total 77 columns):\n",
      " #   Column                     Non-Null Count   Dtype  \n",
      "---  ------                     --------------   -----  \n",
      " 0   id                         150634 non-null  int64  \n",
      " 1   Tranc_YearMonth            150634 non-null  object \n",
      " 2   town                       150634 non-null  object \n",
      " 3   flat_type                  150634 non-null  object \n",
      " 4   block                      150634 non-null  object \n",
      " 5   street_name                150634 non-null  object \n",
      " 6   storey_range               150634 non-null  object \n",
      " 7   floor_area_sqm             150634 non-null  float64\n",
      " 8   flat_model                 150634 non-null  object \n",
      " 9   lease_commence_date        150634 non-null  int64  \n",
      " 10  resale_price               150634 non-null  float64\n",
      " 11  Tranc_Year                 150634 non-null  int64  \n",
      " 12  Tranc_Month                150634 non-null  int64  \n",
      " 13  mid_storey                 150634 non-null  int64  \n",
      " 14  lower                      150634 non-null  int64  \n",
      " 15  upper                      150634 non-null  int64  \n",
      " 16  mid                        150634 non-null  int64  \n",
      " 17  full_flat_type             150634 non-null  object \n",
      " 18  address                    150634 non-null  object \n",
      " 19  floor_area_sqft            150634 non-null  float64\n",
      " 20  hdb_age                    150634 non-null  int64  \n",
      " 21  max_floor_lvl              150634 non-null  int64  \n",
      " 22  year_completed             150634 non-null  int64  \n",
      " 23  residential                150634 non-null  object \n",
      " 24  commercial                 150634 non-null  object \n",
      " 25  market_hawker              150634 non-null  object \n",
      " 26  multistorey_carpark        150634 non-null  object \n",
      " 27  precinct_pavilion          150634 non-null  object \n",
      " 28  total_dwelling_units       150634 non-null  int64  \n",
      " 29  1room_sold                 150634 non-null  int64  \n",
      " 30  2room_sold                 150634 non-null  int64  \n",
      " 31  3room_sold                 150634 non-null  int64  \n",
      " 32  4room_sold                 150634 non-null  int64  \n",
      " 33  5room_sold                 150634 non-null  int64  \n",
      " 34  exec_sold                  150634 non-null  int64  \n",
      " 35  multigen_sold              150634 non-null  int64  \n",
      " 36  studio_apartment_sold      150634 non-null  int64  \n",
      " 37  1room_rental               150634 non-null  int64  \n",
      " 38  2room_rental               150634 non-null  int64  \n",
      " 39  3room_rental               150634 non-null  int64  \n",
      " 40  other_room_rental          150634 non-null  int64  \n",
      " 41  postal                     150634 non-null  object \n",
      " 42  Latitude                   150634 non-null  float64\n",
      " 43  Longitude                  150634 non-null  float64\n",
      " 44  planning_area              150634 non-null  object \n",
      " 45  Mall_Nearest_Distance      149805 non-null  float64\n",
      " 46  Mall_Within_500m           57845 non-null   float64\n",
      " 47  Mall_Within_1km            125208 non-null  float64\n",
      " 48  Mall_Within_2km            148694 non-null  float64\n",
      " 49  Hawker_Nearest_Distance    150634 non-null  float64\n",
      " 50  Hawker_Within_500m         53244 non-null   float64\n",
      " 51  Hawker_Within_1km          89766 non-null   float64\n",
      " 52  Hawker_Within_2km          121432 non-null  float64\n",
      " 53  hawker_food_stalls         150634 non-null  int64  \n",
      " 54  hawker_market_stalls       150634 non-null  int64  \n",
      " 55  mrt_nearest_distance       150634 non-null  float64\n",
      " 56  mrt_name                   150634 non-null  object \n",
      " 57  bus_interchange            150634 non-null  int64  \n",
      " 58  mrt_interchange            150634 non-null  int64  \n",
      " 59  mrt_latitude               150634 non-null  float64\n",
      " 60  mrt_longitude              150634 non-null  float64\n",
      " 61  bus_stop_nearest_distance  150634 non-null  float64\n",
      " 62  bus_stop_name              150634 non-null  object \n",
      " 63  bus_stop_latitude          150634 non-null  float64\n",
      " 64  bus_stop_longitude         150634 non-null  float64\n",
      " 65  pri_sch_nearest_distance   150634 non-null  float64\n",
      " 66  pri_sch_name               150634 non-null  object \n",
      " 67  vacancy                    150634 non-null  int64  \n",
      " 68  pri_sch_affiliation        150634 non-null  int64  \n",
      " 69  pri_sch_latitude           150634 non-null  float64\n",
      " 70  pri_sch_longitude          150634 non-null  float64\n",
      " 71  sec_sch_nearest_dist       150634 non-null  float64\n",
      " 72  sec_sch_name               150634 non-null  object \n",
      " 73  cutoff_point               150634 non-null  int64  \n",
      " 74  affiliation                150634 non-null  int64  \n",
      " 75  sec_sch_latitude           150634 non-null  float64\n",
      " 76  sec_sch_longitude          150634 non-null  float64\n",
      "dtypes: float64(25), int64(32), object(20)\n",
      "memory usage: 88.5+ MB\n"
     ]
    }
   ],
   "source": [
    "trn.info()"
   ]
  },
  {
   "cell_type": "markdown",
   "id": "bfd9ace8-fb00-42e5-998f-1e1e5a60ae3d",
   "metadata": {},
   "source": [
    "#### Dealing with 'NIL' values in the 'postal' column\n",
    "\n",
    "Blocks in the same area ('street_name' column) should have similar postal codes, ie. the first 3 digits should be similar. That said, there may still be a few different types of postal code within the same area. To make a decision on which to assign, latitude and longitude are taken into consideration. Doing so will reveal two things:\n",
    "- First 3 digits of postal codes of blocks closest to the target block;\n",
    "- First 3 digits of postal codes of blocks with block numbers closest to the target block."
   ]
  },
  {
   "cell_type": "code",
   "execution_count": 1391,
   "id": "13204fe1-91cf-4ca4-971c-c5fef5994bd3",
   "metadata": {},
   "outputs": [
    {
     "data": {
      "text/plain": [
       "array(['NIL'], dtype=object)"
      ]
     },
     "execution_count": 1391,
     "metadata": {},
     "output_type": "execute_result"
    }
   ],
   "source": [
    "trn[trn.postal.str.isnumeric() == False].postal.unique()"
   ]
  },
  {
   "cell_type": "code",
   "execution_count": 1392,
   "id": "bafee97d-4ebc-4689-88c9-635e3d1259e8",
   "metadata": {},
   "outputs": [],
   "source": [
    "# Calculation of distance from longitude & latitude from https://www.geeksforgeeks.org/program-distance-two-points-earth/\n",
    "\n",
    "def distance(street='', town=None, missing_col=''):\n",
    "    \n",
    "    if town == None:\n",
    "        df = trn[trn.street_name.isin([street])][['block', 'postal', 'street_name', 'Mall_Nearest_Distance', 'Mall_Within_500m', 'Mall_Within_1km', 'Mall_Within_2km', 'Longitude', 'Latitude']]\n",
    "    else:\n",
    "        df = trn[trn.town.isin([town])][['block', 'postal', 'street_name', 'Mall_Nearest_Distance', 'Mall_Within_500m', 'Mall_Within_1km', 'Mall_Within_2km', 'Longitude', 'Latitude']]\n",
    "    \n",
    "    df.drop_duplicates(subset=['Mall_Nearest_Distance', 'Longitude', 'Latitude'], inplace=True)\n",
    "    \n",
    "    df['Longitude'] = df.Longitude.map(lambda x: radians(x))\n",
    "    df['Latitude'] = df.Latitude.map(lambda x: radians(x))\n",
    "        \n",
    "    lon1, lat1 = list(df[(df[missing_col].isnull()) & (df.street_name.isin([street]))].Longitude.unique()), list(df[(df[missing_col].isnull()) & (df.street_name.isin([street]))].Latitude.unique())\n",
    "    \n",
    "    for i in range(len(lon1)):\n",
    "        \n",
    "        df[f'lon1_{i}'] = lon1[i]\n",
    "        df[f'lat1_{i}'] = lat1[i]\n",
    "        \n",
    "        df[f'dlon_{i}'] = df.Longitude - df[f'lon1_{i}']\n",
    "        df[f'dlat_{i}'] = df.Latitude - df[f'lat1_{i}']\n",
    "        \n",
    "        df[f'a_{i}'] = 0\n",
    "        \n",
    "        df[f'a_{i}'] = df[f'dlat_{i}'].map(lambda x: sin(x / 2)**2) + df[f'lat1_{i}'].map(lambda x: cos(x)) * df.Latitude.map(lambda x: cos(x)) * df[f'dlon_{i}'].map(lambda x: sin(x / 2)**2)\n",
    "        \n",
    "        df[f'c_{i}'] = df[f'a_{i}'].map(lambda x: 2 * asin(sqrt(x)))\n",
    "        \n",
    "        df[f'Distance_{i}'] = df[f'c_{i}'].map(lambda x: x * 6371 * 1000)\n",
    "    \n",
    "    return df.iloc[:, df.columns.map(lambda x: x.startswith(('block', 'postal', 'Mall_Nearest_Distance', 'Distance')))]"
   ]
  },
  {
   "cell_type": "code",
   "execution_count": 1393,
   "id": "51e523ce-1329-47cc-9fbf-3d4dabb4775e",
   "metadata": {},
   "outputs": [],
   "source": [
    "trn['postal'] = trn.postal.map(lambda x: str(x))"
   ]
  },
  {
   "cell_type": "code",
   "execution_count": 1394,
   "id": "498498c8-bef4-49fb-91c1-8984020102bc",
   "metadata": {},
   "outputs": [],
   "source": [
    "trn['postal'] = trn.postal.map(lambda x: np.nan if x in ['NIL'] else x)"
   ]
  },
  {
   "cell_type": "code",
   "execution_count": 1395,
   "id": "aaee820d-73bd-47ae-9cf8-11642d564c23",
   "metadata": {},
   "outputs": [
    {
     "data": {
      "text/html": [
       "<div>\n",
       "<style scoped>\n",
       "    .dataframe tbody tr th:only-of-type {\n",
       "        vertical-align: middle;\n",
       "    }\n",
       "\n",
       "    .dataframe tbody tr th {\n",
       "        vertical-align: top;\n",
       "    }\n",
       "\n",
       "    .dataframe thead th {\n",
       "        text-align: right;\n",
       "    }\n",
       "</style>\n",
       "<table border=\"1\" class=\"dataframe\">\n",
       "  <thead>\n",
       "    <tr style=\"text-align: right;\">\n",
       "      <th></th>\n",
       "      <th>block</th>\n",
       "      <th>street_name</th>\n",
       "    </tr>\n",
       "  </thead>\n",
       "  <tbody>\n",
       "    <tr>\n",
       "      <th>880</th>\n",
       "      <td>215</td>\n",
       "      <td>CHOA CHU KANG CTRL</td>\n",
       "    </tr>\n",
       "    <tr>\n",
       "      <th>3030</th>\n",
       "      <td>238</td>\n",
       "      <td>COMPASSVALE WALK</td>\n",
       "    </tr>\n",
       "  </tbody>\n",
       "</table>\n",
       "</div>"
      ],
      "text/plain": [
       "     block         street_name\n",
       "880    215  CHOA CHU KANG CTRL\n",
       "3030   238    COMPASSVALE WALK"
      ]
     },
     "execution_count": 1395,
     "metadata": {},
     "output_type": "execute_result"
    }
   ],
   "source": [
    "trn[trn.postal.isnull() == True][['block', 'street_name']].drop_duplicates()"
   ]
  },
  {
   "cell_type": "code",
   "execution_count": 1396,
   "id": "507a9fbf-93a1-42ab-81ce-26d4a58b0d26",
   "metadata": {},
   "outputs": [
    {
     "data": {
      "text/html": [
       "<div>\n",
       "<style scoped>\n",
       "    .dataframe tbody tr th:only-of-type {\n",
       "        vertical-align: middle;\n",
       "    }\n",
       "\n",
       "    .dataframe tbody tr th {\n",
       "        vertical-align: top;\n",
       "    }\n",
       "\n",
       "    .dataframe thead th {\n",
       "        text-align: right;\n",
       "    }\n",
       "</style>\n",
       "<table border=\"1\" class=\"dataframe\">\n",
       "  <thead>\n",
       "    <tr style=\"text-align: right;\">\n",
       "      <th></th>\n",
       "      <th>block</th>\n",
       "      <th>postal</th>\n",
       "      <th>Mall_Nearest_Distance</th>\n",
       "      <th>Distance_0</th>\n",
       "    </tr>\n",
       "  </thead>\n",
       "  <tbody>\n",
       "    <tr>\n",
       "      <th>880</th>\n",
       "      <td>215</td>\n",
       "      <td>NaN</td>\n",
       "      <td>300.156625</td>\n",
       "      <td>0.000000</td>\n",
       "    </tr>\n",
       "    <tr>\n",
       "      <th>8122</th>\n",
       "      <td>216</td>\n",
       "      <td>680216</td>\n",
       "      <td>299.385682</td>\n",
       "      <td>17.500518</td>\n",
       "    </tr>\n",
       "    <tr>\n",
       "      <th>24446</th>\n",
       "      <td>214</td>\n",
       "      <td>680214</td>\n",
       "      <td>303.831770</td>\n",
       "      <td>53.673124</td>\n",
       "    </tr>\n",
       "    <tr>\n",
       "      <th>3751</th>\n",
       "      <td>217</td>\n",
       "      <td>680217</td>\n",
       "      <td>242.948553</td>\n",
       "      <td>60.536651</td>\n",
       "    </tr>\n",
       "    <tr>\n",
       "      <th>17223</th>\n",
       "      <td>212</td>\n",
       "      <td>680212</td>\n",
       "      <td>371.138174</td>\n",
       "      <td>74.551625</td>\n",
       "    </tr>\n",
       "  </tbody>\n",
       "</table>\n",
       "</div>"
      ],
      "text/plain": [
       "      block  postal  Mall_Nearest_Distance  Distance_0\n",
       "880     215     NaN             300.156625    0.000000\n",
       "8122    216  680216             299.385682   17.500518\n",
       "24446   214  680214             303.831770   53.673124\n",
       "3751    217  680217             242.948553   60.536651\n",
       "17223   212  680212             371.138174   74.551625"
      ]
     },
     "execution_count": 1396,
     "metadata": {},
     "output_type": "execute_result"
    }
   ],
   "source": [
    "distance(street='CHOA CHU KANG CTRL', missing_col='postal').sort_values('Distance_0').head(5)"
   ]
  },
  {
   "cell_type": "code",
   "execution_count": 1397,
   "id": "be110676-808c-417e-8f01-c3b79ba7eb43",
   "metadata": {},
   "outputs": [
    {
     "data": {
      "text/html": [
       "<div>\n",
       "<style scoped>\n",
       "    .dataframe tbody tr th:only-of-type {\n",
       "        vertical-align: middle;\n",
       "    }\n",
       "\n",
       "    .dataframe tbody tr th {\n",
       "        vertical-align: top;\n",
       "    }\n",
       "\n",
       "    .dataframe thead th {\n",
       "        text-align: right;\n",
       "    }\n",
       "</style>\n",
       "<table border=\"1\" class=\"dataframe\">\n",
       "  <thead>\n",
       "    <tr style=\"text-align: right;\">\n",
       "      <th></th>\n",
       "      <th>block</th>\n",
       "      <th>postal</th>\n",
       "      <th>Mall_Nearest_Distance</th>\n",
       "      <th>Distance_0</th>\n",
       "    </tr>\n",
       "  </thead>\n",
       "  <tbody>\n",
       "    <tr>\n",
       "      <th>3030</th>\n",
       "      <td>238</td>\n",
       "      <td>NaN</td>\n",
       "      <td>448.929181</td>\n",
       "      <td>0.000000</td>\n",
       "    </tr>\n",
       "    <tr>\n",
       "      <th>17279</th>\n",
       "      <td>237</td>\n",
       "      <td>540237</td>\n",
       "      <td>464.571810</td>\n",
       "      <td>65.597126</td>\n",
       "    </tr>\n",
       "    <tr>\n",
       "      <th>2414</th>\n",
       "      <td>236</td>\n",
       "      <td>540236</td>\n",
       "      <td>527.031302</td>\n",
       "      <td>86.255979</td>\n",
       "    </tr>\n",
       "    <tr>\n",
       "      <th>7567</th>\n",
       "      <td>240</td>\n",
       "      <td>540240</td>\n",
       "      <td>362.051069</td>\n",
       "      <td>86.880028</td>\n",
       "    </tr>\n",
       "    <tr>\n",
       "      <th>43105</th>\n",
       "      <td>235</td>\n",
       "      <td>540235</td>\n",
       "      <td>523.986192</td>\n",
       "      <td>109.653587</td>\n",
       "    </tr>\n",
       "  </tbody>\n",
       "</table>\n",
       "</div>"
      ],
      "text/plain": [
       "      block  postal  Mall_Nearest_Distance  Distance_0\n",
       "3030    238     NaN             448.929181    0.000000\n",
       "17279   237  540237             464.571810   65.597126\n",
       "2414    236  540236             527.031302   86.255979\n",
       "7567    240  540240             362.051069   86.880028\n",
       "43105   235  540235             523.986192  109.653587"
      ]
     },
     "execution_count": 1397,
     "metadata": {},
     "output_type": "execute_result"
    }
   ],
   "source": [
    "distance(street='COMPASSVALE WALK', missing_col='postal').sort_values('Distance_0').head(5)"
   ]
  },
  {
   "cell_type": "code",
   "execution_count": 1398,
   "id": "a521e484-ef5b-4642-ba18-732503aac350",
   "metadata": {},
   "outputs": [],
   "source": [
    "trn.postal.where((trn.postal.isnull() == True) & (trn.block.isin(['215']) == False), '680215', inplace=True)"
   ]
  },
  {
   "cell_type": "code",
   "execution_count": 1399,
   "id": "e696032f-5f1b-45d7-812b-70ed3d2717e5",
   "metadata": {},
   "outputs": [],
   "source": [
    "trn.postal.where((trn.postal.isnull() == True) & (trn.block.isin(['238']) == False), '540238', inplace=True)"
   ]
  },
  {
   "cell_type": "markdown",
   "id": "b930b7fc-84be-47dd-a3ff-8b4b10b25b23",
   "metadata": {},
   "source": [
    "#### Dealing with null values\n",
    "\n",
    "**'Mall_Nearest_Distance' column**\n",
    "\n",
    "Like the issue with the postal codes above, this can be roughly approximated using information from blocks closest to the target block. This time, the 'postal', 'Longitude' and 'Latitude' columns will be taken into account. \n",
    "\n",
    "Note that it is extremely unlikely that these blocks are right next to a mall:\n",
    "- There are '0' values for this column, meaning that, for blocks that are right next to a mall, it is reflected in by setting this column's value to '0';\n",
    "- The 3 related columns - 'Mall_Within_500m', 'Mall_Within_1km', 'Mall_Within_2km' - are always empty as well, indicating that there's just generally missing information, or that beyond a certain distance, values are not recorded.\n",
    "\n",
    "**All of the remaining 6 columns**\n",
    "\n",
    "It is likely that the missing values simply mean that there are no malls or hawker centres within the specified area. This is further strengthened by the fact that there are no '0' values across all 6 columns. A check will be done to ensure that this is the case."
   ]
  },
  {
   "cell_type": "code",
   "execution_count": 1400,
   "id": "f26ad89e-ad22-4fe8-9095-bc22762c1caa",
   "metadata": {},
   "outputs": [],
   "source": [
    "nulls = trn.isnull().sum()\n",
    "\n",
    "cols_with_nulls = {nulls.index[i]: nulls[i] for i in range(len(nulls.index)) if nulls[i] != 0}"
   ]
  },
  {
   "cell_type": "code",
   "execution_count": 1401,
   "id": "5300b29b-4ac9-4d48-a942-812739c52bcc",
   "metadata": {},
   "outputs": [
    {
     "data": {
      "text/plain": [
       "{'Mall_Nearest_Distance': 829,\n",
       " 'Mall_Within_500m': 92789,\n",
       " 'Mall_Within_1km': 25426,\n",
       " 'Mall_Within_2km': 1940,\n",
       " 'Hawker_Within_500m': 97390,\n",
       " 'Hawker_Within_1km': 60868,\n",
       " 'Hawker_Within_2km': 29202}"
      ]
     },
     "execution_count": 1401,
     "metadata": {},
     "output_type": "execute_result"
    }
   ],
   "source": [
    "cols_with_nulls"
   ]
  },
  {
   "cell_type": "code",
   "execution_count": 1402,
   "id": "ea198f3e-e34a-420b-86c5-03ac43865fbe",
   "metadata": {},
   "outputs": [
    {
     "name": "stdout",
     "output_type": "stream",
     "text": [
      "Mall_Nearest_Distance 30\n",
      "Mall_Within_500m 0\n",
      "Mall_Within_1km 0\n",
      "Mall_Within_2km 0\n",
      "Hawker_Within_500m 0\n",
      "Hawker_Within_1km 0\n",
      "Hawker_Within_2km 0\n"
     ]
    }
   ],
   "source": [
    "for col in cols_with_nulls.keys():\n",
    "    print(col, trn[trn[col]==0].shape[0])"
   ]
  },
  {
   "cell_type": "code",
   "execution_count": 1403,
   "id": "043f5bd7-9fe3-4784-a191-69449c067c5e",
   "metadata": {},
   "outputs": [
    {
     "data": {
      "text/plain": [
       "Mall_Within_500m    829\n",
       "Mall_Within_1km     829\n",
       "Mall_Within_2km     829\n",
       "dtype: int64"
      ]
     },
     "execution_count": 1403,
     "metadata": {},
     "output_type": "execute_result"
    }
   ],
   "source": [
    "trn[trn.Mall_Nearest_Distance.isnull()][['Mall_Within_500m', 'Mall_Within_1km', 'Mall_Within_2km']].isnull().sum()"
   ]
  },
  {
   "cell_type": "code",
   "execution_count": 1404,
   "id": "334f6eed-4b84-486c-a186-0829dea8010e",
   "metadata": {},
   "outputs": [],
   "source": [
    "streets = list(trn[trn.Mall_Nearest_Distance.isnull()].street_name.unique())"
   ]
  },
  {
   "cell_type": "code",
   "execution_count": 1405,
   "id": "2babe595-efdd-43cf-9ec2-3617a4316e99",
   "metadata": {},
   "outputs": [],
   "source": [
    "streets_and_blocks = {}"
   ]
  },
  {
   "cell_type": "code",
   "execution_count": 1406,
   "id": "fb4a3773-46cb-4e68-b035-39fb7349780e",
   "metadata": {},
   "outputs": [],
   "source": [
    "def compare_blocks(street=''):\n",
    "    \n",
    "    blocks = list(trn[trn.street_name.isin([street]) & trn.Mall_Nearest_Distance.isnull()].block.unique())\n",
    "    \n",
    "    streets_and_blocks[street] = blocks\n",
    "    \n",
    "    nearest_mall = list(trn[trn.street_name.isin([street]) & trn.block.isin(blocks)].Mall_Nearest_Distance.unique())\n",
    "    \n",
    "    return nearest_mall"
   ]
  },
  {
   "cell_type": "code",
   "execution_count": 1407,
   "id": "8686b227-4143-4c4a-8065-c67d091dd880",
   "metadata": {},
   "outputs": [],
   "source": [
    "for street in streets:\n",
    "    if np.isnan(compare_blocks(street)[0]):\n",
    "        pass\n",
    "    else:\n",
    "        print(compare_blocks(street))"
   ]
  },
  {
   "cell_type": "code",
   "execution_count": 1408,
   "id": "84c942f6-e231-4fdd-81f2-fd5c6b7c2f65",
   "metadata": {},
   "outputs": [],
   "source": [
    "mall_nearest_distance = {street: {} for street in streets_and_blocks.keys()}\n",
    "\n",
    "to_expand_area = {}\n",
    "\n",
    "for street in streets:\n",
    "    \n",
    "    try:\n",
    "    \n",
    "        df = distance(street=street, missing_col='Mall_Nearest_Distance')\n",
    "\n",
    "        for i in range(3, len(df.columns)):\n",
    "\n",
    "            df_sorted = df.sort_values(df.columns[i])\n",
    "\n",
    "            row = 1\n",
    "            while np.isnan(df_sorted.iloc[row, 2]) == True:\n",
    "                row +=1\n",
    "\n",
    "            mall_nearest_distance[street][df_sorted.iloc[0, 0]] = (df_sorted.iloc[row, 2])\n",
    "            \n",
    "    except:\n",
    "        \n",
    "        to_expand_area[street] = None\n",
    "        continue"
   ]
  },
  {
   "cell_type": "code",
   "execution_count": 1409,
   "id": "499478bb-0bc1-43d9-9560-975cc87eaa6e",
   "metadata": {},
   "outputs": [],
   "source": [
    "for street in to_expand_area:\n",
    "    to_expand_area[street] = trn[trn.street_name.isin([street])].town.unique()[0]"
   ]
  },
  {
   "cell_type": "code",
   "execution_count": 1410,
   "id": "e1715848-02e4-4f09-af28-30a500fcbc6c",
   "metadata": {},
   "outputs": [],
   "source": [
    "for street in to_expand_area.keys():\n",
    "    \n",
    "    df = distance(street=street, town=to_expand_area[street], missing_col='Mall_Nearest_Distance')\n",
    "\n",
    "    for i in range(3, len(df.columns)):\n",
    "\n",
    "        df_sorted = df.sort_values(df.columns[i])\n",
    "\n",
    "        row = 1\n",
    "        while np.isnan(df_sorted.iloc[row, 2]) == True:\n",
    "            row +=1\n",
    "\n",
    "        mall_nearest_distance[street][df_sorted.iloc[0, 0]] = (df_sorted.iloc[row, 2])"
   ]
  },
  {
   "cell_type": "code",
   "execution_count": 1411,
   "id": "8c6029a9-9d57-45e7-95c2-9900801e3ad4",
   "metadata": {},
   "outputs": [],
   "source": [
    "col_num_nearest_mall = [i for i in range(len(trn.columns)) if trn.columns[i] == 'Mall_Nearest_Distance'][0]"
   ]
  },
  {
   "cell_type": "code",
   "execution_count": 1412,
   "id": "ce4c5637-f755-4573-a466-886150ef3c2f",
   "metadata": {},
   "outputs": [],
   "source": [
    "for street in mall_nearest_distance.keys():\n",
    "    for block in mall_nearest_distance[street]:\n",
    "        trn.iloc[trn[(trn.street_name == street) & (trn.block == block)].index, col_num_nearest_mall] = mall_nearest_distance[street][block]"
   ]
  },
  {
   "cell_type": "code",
   "execution_count": 1413,
   "id": "93e1fabb-4236-40d6-86e8-fc74df4bc98d",
   "metadata": {},
   "outputs": [],
   "source": [
    "col_num_mall_500m = [i for i in range(len(trn.columns)) if trn.columns[i] == 'Mall_Within_500m'][0]"
   ]
  },
  {
   "cell_type": "code",
   "execution_count": 1419,
   "id": "2c25dd83-5828-4678-95b5-72c0bfa988a2",
   "metadata": {},
   "outputs": [],
   "source": [
    "trn.iloc[trn[np.isnan(trn.Mall_Within_500m)].index, col_num_mall_500m] = np.where(trn.iloc[trn[np.isnan(trn.Mall_Within_500m)].index, col_num_nearest_mall] <= 500, 1, 0)"
   ]
  },
  {
   "cell_type": "code",
   "execution_count": null,
   "id": "9dbd9f19-b826-4b1a-905a-32b4c3c15bfd",
   "metadata": {},
   "outputs": [],
   "source": []
  }
 ],
 "metadata": {
  "kernelspec": {
   "display_name": "Python [conda env:dsi-sg]",
   "language": "python",
   "name": "conda-env-dsi-sg-py"
  },
  "language_info": {
   "codemirror_mode": {
    "name": "ipython",
    "version": 3
   },
   "file_extension": ".py",
   "mimetype": "text/x-python",
   "name": "python",
   "nbconvert_exporter": "python",
   "pygments_lexer": "ipython3",
   "version": "3.9.13"
  }
 },
 "nbformat": 4,
 "nbformat_minor": 5
}
